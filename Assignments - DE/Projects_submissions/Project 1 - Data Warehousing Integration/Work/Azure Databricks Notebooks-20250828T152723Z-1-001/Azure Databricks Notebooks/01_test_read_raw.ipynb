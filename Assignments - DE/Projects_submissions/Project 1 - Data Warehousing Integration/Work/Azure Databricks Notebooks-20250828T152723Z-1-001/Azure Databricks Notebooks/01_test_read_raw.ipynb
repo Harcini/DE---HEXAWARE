{
 "cells": [
  {
   "cell_type": "markdown",
   "metadata": {
    "application/vnd.databricks.v1+cell": {
     "cellMetadata": {},
     "inputWidgets": {},
     "nuid": "fa7a7c28-95a0-4619-85fb-c9b1659712f2",
     "showTitle": false,
     "tableResultSettingsMap": {},
     "title": ""
    }
   },
   "source": [
    "set storage key"
   ]
  },
  {
   "cell_type": "code",
   "execution_count": 0,
   "metadata": {
    "application/vnd.databricks.v1+cell": {
     "cellMetadata": {
      "byteLimit": 2048000,
      "rowLimit": 10000
     },
     "inputWidgets": {},
     "nuid": "b557151b-ad01-401a-94d8-1a122603d3e1",
     "showTitle": false,
     "tableResultSettingsMap": {},
     "title": ""
    }
   },
   "outputs": [],
   "source": [
    "storage_account = \"hexdatastoragegen2\"\n",
    "storage_key = \"3yXeqbl+vxjfPvR/0TDxvMsa7Q56vlBDcdyXjput7irnJ4TK6rHd/ETsfIBlCqO68tdiqKvAvf1n+AStOdiylw==\"\n",
    "\n",
    "# Use ABFS path auth via storage account key\n",
    "spark.conf.set(f\"fs.azure.account.key.{storage_account}.dfs.core.windows.net\", storage_key)"
   ]
  },
  {
   "cell_type": "markdown",
   "metadata": {
    "application/vnd.databricks.v1+cell": {
     "cellMetadata": {},
     "inputWidgets": {},
     "nuid": "ac24cec7-4896-47ee-8ad6-8e0c7da6c90c",
     "showTitle": false,
     "tableResultSettingsMap": {},
     "title": ""
    }
   },
   "source": [
    "read the file (ABFSS)"
   ]
  },
  {
   "cell_type": "code",
   "execution_count": 0,
   "metadata": {
    "application/vnd.databricks.v1+cell": {
     "cellMetadata": {
      "byteLimit": 2048000,
      "rowLimit": 10000
     },
     "inputWidgets": {},
     "nuid": "ac561a61-888c-481f-b6fe-d3bdcfa0de08",
     "showTitle": false,
     "tableResultSettingsMap": {},
     "title": ""
    }
   },
   "outputs": [
    {
     "output_type": "stream",
     "name": "stdout",
     "output_type": "stream",
     "text": [
      "+--------------+----------+-----------+------+---+----------------+--------+--------------+------------+\n|Transaction ID|      Date|Customer ID|Gender|Age|Product Category|Quantity|Price per Unit|Total Amount|\n+--------------+----------+-----------+------+---+----------------+--------+--------------+------------+\n|             1|2023-11-24|    CUST001|  Male| 34|          Beauty|       3|            50|         150|\n|             2|2023-02-27|    CUST002|Female| 26|        Clothing|       2|           500|        1000|\n|             3|2023-01-13|    CUST003|  Male| 50|     Electronics|       1|            30|          30|\n|             4|2023-05-21|    CUST004|  Male| 37|        Clothing|       1|           500|         500|\n|             5|2023-05-06|    CUST005|  Male| 30|          Beauty|       2|            50|         100|\n+--------------+----------+-----------+------+---+----------------+--------+--------------+------------+\nonly showing top 5 rows\n"
     ]
    }
   ],
   "source": [
    "raw_path = \"abfss://raw@hexdatastoragegen2.dfs.core.windows.net/retail_sales_dataset.csv\"\n",
    "\n",
    "df = spark.read \\\n",
    "    .option(\"header\", \"true\") \\\n",
    "    .option(\"inferSchema\", \"true\") \\\n",
    "    .csv(raw_path)\n",
    "\n",
    "df.show(5)"
   ]
  },
  {
   "cell_type": "code",
   "execution_count": 0,
   "metadata": {
    "application/vnd.databricks.v1+cell": {
     "cellMetadata": {
      "byteLimit": 2048000,
      "rowLimit": 10000
     },
     "inputWidgets": {},
     "nuid": "d9d25183-00a4-4231-b0b2-ff2c746f8b93",
     "showTitle": false,
     "tableResultSettingsMap": {},
     "title": ""
    }
   },
   "outputs": [
    {
     "output_type": "stream",
     "name": "stdout",
     "output_type": "stream",
     "text": [
      "root\n |-- Transaction ID: integer (nullable = true)\n |-- Date: date (nullable = true)\n |-- Customer ID: string (nullable = true)\n |-- Gender: string (nullable = true)\n |-- Age: integer (nullable = true)\n |-- Product Category: string (nullable = true)\n |-- Quantity: integer (nullable = true)\n |-- Price per Unit: integer (nullable = true)\n |-- Total Amount: integer (nullable = true)\n\n"
     ]
    }
   ],
   "source": [
    "df.printSchema()"
   ]
  },
  {
   "cell_type": "code",
   "execution_count": 0,
   "metadata": {
    "application/vnd.databricks.v1+cell": {
     "cellMetadata": {
      "byteLimit": 2048000,
      "rowLimit": 10000
     },
     "inputWidgets": {},
     "nuid": "ed46d11c-8c8f-401a-8ceb-c0c687b73bcc",
     "showTitle": false,
     "tableResultSettingsMap": {},
     "title": ""
    }
   },
   "outputs": [
    {
     "output_type": "stream",
     "name": "stdout",
     "output_type": "stream",
     "text": [
      "Total rows: 1000\n"
     ]
    }
   ],
   "source": [
    "print(\"Total rows:\", df.count())"
   ]
  }
 ],
 "metadata": {
  "application/vnd.databricks.v1+notebook": {
   "computePreferences": null,
   "dashboards": [],
   "environmentMetadata": {
    "base_environment": "",
    "environment_version": "3"
   },
   "inputWidgetPreferences": null,
   "language": "python",
   "notebookMetadata": {
    "pythonIndentUnit": 4
   },
   "notebookName": "01_test_read_raw",
   "widgets": {}
  },
  "language_info": {
   "name": "python"
  }
 },
 "nbformat": 4,
 "nbformat_minor": 0
}