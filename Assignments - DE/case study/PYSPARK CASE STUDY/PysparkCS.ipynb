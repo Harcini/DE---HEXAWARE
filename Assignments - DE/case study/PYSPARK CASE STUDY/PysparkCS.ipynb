{
  "nbformat": 4,
  "nbformat_minor": 0,
  "metadata": {
    "colab": {
      "provenance": []
    },
    "kernelspec": {
      "name": "python3",
      "display_name": "Python 3"
    },
    "language_info": {
      "name": "python"
    }
  },
  "cells": [
    {
      "cell_type": "code",
      "execution_count": 1,
      "metadata": {
        "colab": {
          "base_uri": "https://localhost:8080/"
        },
        "id": "pPsFGWEi4-E6",
        "outputId": "77c6a0a2-0089-4026-ceb9-79b6ee2c7039"
      },
      "outputs": [
        {
          "output_type": "stream",
          "name": "stdout",
          "text": [
            "root\n",
            " |-- Customer_ID: string (nullable = true)\n",
            " |-- Age: integer (nullable = true)\n",
            " |-- Gender: string (nullable = true)\n",
            " |-- Occupation: string (nullable = true)\n",
            " |-- Marital Status: string (nullable = true)\n",
            " |-- Family Size: integer (nullable = true)\n",
            " |-- Income: integer (nullable = true)\n",
            " |-- Expenditure: integer (nullable = true)\n",
            " |-- Use Frequency: integer (nullable = true)\n",
            " |-- Loan Category: string (nullable = true)\n",
            " |-- Loan Amount: string (nullable = true)\n",
            " |-- Overdue: integer (nullable = true)\n",
            " |--  Debt Record: string (nullable = true)\n",
            " |--  Returned Cheque: integer (nullable = true)\n",
            " |--  Dishonour of Bill: integer (nullable = true)\n",
            "\n",
            "root\n",
            " |-- RowNumber: integer (nullable = true)\n",
            " |-- CustomerId: integer (nullable = true)\n",
            " |-- Surname: string (nullable = true)\n",
            " |-- CreditScore: integer (nullable = true)\n",
            " |-- Geography: string (nullable = true)\n",
            " |-- Gender: string (nullable = true)\n",
            " |-- Age: integer (nullable = true)\n",
            " |-- Tenure: integer (nullable = true)\n",
            " |-- Balance: double (nullable = true)\n",
            " |-- NumOfProducts: integer (nullable = true)\n",
            " |-- IsActiveMember: integer (nullable = true)\n",
            " |-- EstimatedSalary: double (nullable = true)\n",
            " |-- Exited: integer (nullable = true)\n",
            "\n",
            "root\n",
            " |-- Account No: string (nullable = true)\n",
            " |-- TRANSACTION DETAILS: string (nullable = true)\n",
            " |-- VALUE DATE: string (nullable = true)\n",
            " |--  WITHDRAWAL AMT : double (nullable = true)\n",
            " |--  DEPOSIT AMT : double (nullable = true)\n",
            " |-- BALANCE AMT: double (nullable = true)\n",
            "\n",
            "+-----------+---+------+------------+--------------+-----------+------+-----------+-------------+-------------+-----------+-------+------------+----------------+------------------+\n",
            "|Customer_ID|Age|Gender|  Occupation|Marital Status|Family Size|Income|Expenditure|Use Frequency|Loan Category|Loan Amount|Overdue| Debt Record| Returned Cheque| Dishonour of Bill|\n",
            "+-----------+---+------+------------+--------------+-----------+------+-----------+-------------+-------------+-----------+-------+------------+----------------+------------------+\n",
            "|    IB14001| 30|  MALE|BANK MANAGER|        SINGLE|          4| 50000|      22199|            6|      HOUSING| 10,00,000 |      5|      42,898|               6|                 9|\n",
            "|    IB14008| 44|  MALE|   PROFESSOR|       MARRIED|          6| 51000|      19999|            4|     SHOPPING|     50,000|      3|      33,999|               1|                 5|\n",
            "|    IB14012| 30|FEMALE|     DENTIST|        SINGLE|          3| 58450|      27675|            5|   TRAVELLING|     75,000|      6|      20,876|               3|                 1|\n",
            "|    IB14018| 29|  MALE|     TEACHER|       MARRIED|          5| 45767|      12787|            3|    GOLD LOAN|  6,00,000 |      7|      11,000|               0|                 4|\n",
            "|    IB14022| 34|  MALE|      POLICE|        SINGLE|          4| 43521|      11999|            3|   AUTOMOBILE|  2,00,000 |      2|      43,898|               1|                 2|\n",
            "+-----------+---+------+------------+--------------+-----------+------+-----------+-------------+-------------+-----------+-------+------------+----------------+------------------+\n",
            "only showing top 5 rows\n",
            "\n",
            "+---------+----------+--------+-----------+---------+------+---+------+---------+-------------+--------------+---------------+------+\n",
            "|RowNumber|CustomerId| Surname|CreditScore|Geography|Gender|Age|Tenure|  Balance|NumOfProducts|IsActiveMember|EstimatedSalary|Exited|\n",
            "+---------+----------+--------+-----------+---------+------+---+------+---------+-------------+--------------+---------------+------+\n",
            "|        1|  15634602|Hargrave|        619|   France|Female| 42|     2|      0.0|            1|             1|      101348.88|     1|\n",
            "|        2|  15647311|    Hill|        608|    Spain|Female| 41|     1| 83807.86|            1|             1|      112542.58|     0|\n",
            "|        3|  15619304|    Onio|        502|   France|Female| 42|     8| 159660.8|            3|             0|      113931.57|     1|\n",
            "|        4|  15701354|    Boni|        699|   France|Female| 39|     1|      0.0|            2|             0|       93826.63|     0|\n",
            "|        5|  15737888|Mitchell|        850|    Spain|Female| 43|     2|125510.82|            1|             1|        79084.1|     0|\n",
            "+---------+----------+--------+-----------+---------+------+---+------+---------+-------------+--------------+---------------+------+\n",
            "only showing top 5 rows\n",
            "\n",
            "+-------------+--------------------+----------+----------------+-------------+-----------+\n",
            "|   Account No| TRANSACTION DETAILS|VALUE DATE| WITHDRAWAL AMT | DEPOSIT AMT |BALANCE AMT|\n",
            "+-------------+--------------------+----------+----------------+-------------+-----------+\n",
            "|409000611074'|TRF FROM  Indiafo...| 29-Jun-17|            NULL|    1000000.0|  1000000.0|\n",
            "|409000611074'|TRF FROM  Indiafo...|  5-Jul-17|            NULL|    1000000.0|  2000000.0|\n",
            "|409000611074'|FDRL/INTERNAL FUN...| 18-Jul-17|            NULL|     500000.0|  2500000.0|\n",
            "|409000611074'|TRF FRM  Indiafor...|  1-Aug-17|            NULL|    3000000.0|  5500000.0|\n",
            "|409000611074'|FDRL/INTERNAL FUN...| 16-Aug-17|            NULL|     500000.0|  6000000.0|\n",
            "+-------------+--------------------+----------+----------------+-------------+-----------+\n",
            "only showing top 5 rows\n",
            "\n"
          ]
        }
      ],
      "source": [
        "from pyspark.sql import SparkSession\n",
        "from pyspark.sql.functions import *\n",
        "\n",
        "# Start SparkSession\n",
        "spark = SparkSession.builder \\\n",
        "    .appName(\"Online Banking Analysis\") \\\n",
        "    .getOrCreate()\n",
        "# Load loan.csv\n",
        "loan_df = spark.read.csv(\"/content/loan.csv\", header=True, inferSchema=True)\n",
        "\n",
        "# Load credit card.csv\n",
        "credit_df = spark.read.csv(\"/content/credit card.csv\", header=True, inferSchema=True)\n",
        "\n",
        "# Load txn.csv\n",
        "txn_df = spark.read.csv(\"/content/txn.csv\", header=True, inferSchema=True)\n",
        "\n",
        "# Display schema\n",
        "loan_df.printSchema()\n",
        "credit_df.printSchema()\n",
        "txn_df.printSchema()\n",
        "\n",
        "# Show first few records\n",
        "loan_df.show(5)\n",
        "credit_df.show(5)\n",
        "txn_df.show(5)\n",
        "\n"
      ]
    },
    {
      "cell_type": "code",
      "source": [
        "# 1. Number of loans in each category\n",
        "loan_df.groupBy(\"Loan_Category\").count().show()\n",
        "\n"
      ],
      "metadata": {
        "colab": {
          "base_uri": "https://localhost:8080/"
        },
        "id": "6Sj7vbaR6qI4",
        "outputId": "84ee2667-9a6b-4590-858f-43ce129ac2d1"
      },
      "execution_count": 4,
      "outputs": [
        {
          "output_type": "stream",
          "name": "stdout",
          "text": [
            "+------------------+-----+\n",
            "|     Loan_Category|count|\n",
            "+------------------+-----+\n",
            "|           HOUSING|   67|\n",
            "|        TRAVELLING|   53|\n",
            "|       BOOK STORES|    7|\n",
            "|       AGRICULTURE|   12|\n",
            "|         GOLD LOAN|   77|\n",
            "|  EDUCATIONAL LOAN|   20|\n",
            "|        AUTOMOBILE|   60|\n",
            "|          BUSINESS|   24|\n",
            "|COMPUTER SOFTWARES|   35|\n",
            "|           DINNING|   14|\n",
            "|          SHOPPING|   35|\n",
            "|       RESTAURANTS|   41|\n",
            "|       ELECTRONICS|   14|\n",
            "|          BUILDING|    7|\n",
            "|        RESTAURANT|   20|\n",
            "|   HOME APPLIANCES|   14|\n",
            "+------------------+-----+\n",
            "\n"
          ]
        }
      ]
    },
    {
      "cell_type": "code",
      "source": [
        "for col_name in loan_df.columns:\n",
        "    loan_df = loan_df.withColumnRenamed(col_name, col_name.strip().replace(\" \", \"_\").replace(\"-\", \"_\"))\n"
      ],
      "metadata": {
        "id": "ZRa3LFse8AOP"
      },
      "execution_count": 3,
      "outputs": []
    },
    {
      "cell_type": "code",
      "source": [
        "# Filtering customers who took a loan greater than 1 lakh\n",
        "loan_df.filter(loan_df[\"Loan_Amount\"] > 100000).count()"
      ],
      "metadata": {
        "colab": {
          "base_uri": "https://localhost:8080/"
        },
        "id": "YOAjkBQ999z4",
        "outputId": "14295f20-8685-433e-9286-d415edf4b9fe"
      },
      "execution_count": 6,
      "outputs": [
        {
          "output_type": "execute_result",
          "data": {
            "text/plain": [
              "0"
            ]
          },
          "metadata": {},
          "execution_count": 6
        }
      ]
    },
    {
      "cell_type": "code",
      "source": [
        "# Filtering rows where income is greater than 60,000\n",
        "loan_df.filter(col(\"Income\") > 60000).count()"
      ],
      "metadata": {
        "colab": {
          "base_uri": "https://localhost:8080/"
        },
        "id": "yxZf8gr4_xG1",
        "outputId": "158e745f-d365-434d-91eb-3fe9c27b3ee1"
      },
      "execution_count": 7,
      "outputs": [
        {
          "output_type": "execute_result",
          "data": {
            "text/plain": [
              "198"
            ]
          },
          "metadata": {},
          "execution_count": 7
        }
      ]
    },
    {
      "cell_type": "code",
      "source": [
        "# Applying multiple conditions using logical AND (&)\n",
        "loan_df.filter((col(\"Returned_Cheque\") >= 2) & (col(\"Income\") < 50000)).count()"
      ],
      "metadata": {
        "colab": {
          "base_uri": "https://localhost:8080/"
        },
        "id": "hcLbvK1JAXkf",
        "outputId": "e63ebfb4-8ece-4f63-ff17-b2d5e868755d"
      },
      "execution_count": 8,
      "outputs": [
        {
          "output_type": "execute_result",
          "data": {
            "text/plain": [
              "137"
            ]
          },
          "metadata": {},
          "execution_count": 8
        }
      ]
    },
    {
      "cell_type": "code",
      "source": [
        "# Filtering by returned cheques and marital status\n",
        "loan_df.filter((col(\"Returned_Cheque\") >= 2) & (col(\"Marital_Status\") == \"Single\")).count()"
      ],
      "metadata": {
        "colab": {
          "base_uri": "https://localhost:8080/"
        },
        "id": "k3SUjJj-A_rB",
        "outputId": "1a3b8186-c98c-4af4-f3fb-8d5add378f6b"
      },
      "execution_count": 9,
      "outputs": [
        {
          "output_type": "execute_result",
          "data": {
            "text/plain": [
              "0"
            ]
          },
          "metadata": {},
          "execution_count": 9
        }
      ]
    },
    {
      "cell_type": "code",
      "source": [
        "# Filtering high monthly spenders\n",
        "loan_df.filter(col(\"Expenditure\") > 50000).count()"
      ],
      "metadata": {
        "colab": {
          "base_uri": "https://localhost:8080/"
        },
        "id": "Q7JeDJpwBTEh",
        "outputId": "dfa14241-6237-4214-b4cf-bf0eb9e2e4a6"
      },
      "execution_count": 10,
      "outputs": [
        {
          "output_type": "execute_result",
          "data": {
            "text/plain": [
              "6"
            ]
          },
          "metadata": {},
          "execution_count": 10
        }
      ]
    },
    {
      "cell_type": "code",
      "source": [
        "# Example rule: Eligible if debt record is good and they use banking services frequently\n",
        "loan_df.filter((col(\"Use_Frequency\") > 10) & (col(\"Debt_Record\") == \"Good\")).count()"
      ],
      "metadata": {
        "colab": {
          "base_uri": "https://localhost:8080/"
        },
        "id": "Ivuu2rszBrXZ",
        "outputId": "ea93785d-9aa2-4f6b-9a4b-52bfdfd4c329"
      },
      "execution_count": 11,
      "outputs": [
        {
          "output_type": "execute_result",
          "data": {
            "text/plain": [
              "0"
            ]
          },
          "metadata": {},
          "execution_count": 11
        }
      ]
    },
    {
      "cell_type": "code",
      "source": [
        "for col_name in credit_df.columns:\n",
        "    credit_df = credit_df.withColumnRenamed(col_name, col_name.strip().replace(\" \", \"_\").replace(\"-\", \"_\"))\n"
      ],
      "metadata": {
        "id": "7X5agPawC03J"
      },
      "execution_count": 12,
      "outputs": []
    },
    {
      "cell_type": "code",
      "source": [
        "for col_name in txn_df.columns:\n",
        "    txn_df = txn_df.withColumnRenamed(col_name, col_name.strip().replace(\" \", \"_\").replace(\"-\", \"_\"))\n"
      ],
      "metadata": {
        "id": "2EP-K2H0C2zN"
      },
      "execution_count": 13,
      "outputs": []
    },
    {
      "cell_type": "code",
      "source": [
        "# 1. Show number of credit card users located in Spain\n",
        "\n",
        "credit_df.filter(col(\"Geography\") == \"Spain\").count()\n",
        "\n"
      ],
      "metadata": {
        "colab": {
          "base_uri": "https://localhost:8080/"
        },
        "id": "fgH1Q7yuC57U",
        "outputId": "e20c6cb6-a28f-4360-a34a-64b3c21bfce8"
      },
      "execution_count": 15,
      "outputs": [
        {
          "output_type": "execute_result",
          "data": {
            "text/plain": [
              "2477"
            ]
          },
          "metadata": {},
          "execution_count": 15
        }
      ]
    },
    {
      "cell_type": "code",
      "source": [
        "# Example threshold: Credit Score >= 650 is eligible\n",
        "credit_df.filter((col(\"CreditScore\") >= 650) & (col(\"IsActiveMember\") == 1)).count()\n"
      ],
      "metadata": {
        "colab": {
          "base_uri": "https://localhost:8080/"
        },
        "id": "pXl6VkaOFcep",
        "outputId": "b3a0b048-1496-4d1f-9c8b-4fc2cd552c1f"
      },
      "execution_count": 16,
      "outputs": [
        {
          "output_type": "execute_result",
          "data": {
            "text/plain": [
              "2672"
            ]
          },
          "metadata": {},
          "execution_count": 16
        }
      ]
    },
    {
      "cell_type": "code",
      "source": [
        "credit_df.filter((col(\"CreditScore\") >= 650) & (col(\"IsActiveMember\") == 1)).show()\n"
      ],
      "metadata": {
        "colab": {
          "base_uri": "https://localhost:8080/"
        },
        "id": "g8yWWLPdFiUr",
        "outputId": "c4494533-3c3c-44a6-d1b3-e05a456c7801"
      },
      "execution_count": 17,
      "outputs": [
        {
          "output_type": "stream",
          "name": "stdout",
          "text": [
            "+---------+----------+---------+-----------+---------+------+---+------+---------+-------------+--------------+---------------+------+\n",
            "|RowNumber|CustomerId|  Surname|CreditScore|Geography|Gender|Age|Tenure|  Balance|NumOfProducts|IsActiveMember|EstimatedSalary|Exited|\n",
            "+---------+----------+---------+-----------+---------+------+---+------+---------+-------------+--------------+---------------+------+\n",
            "|        5|  15737888| Mitchell|        850|    Spain|Female| 43|     2|125510.82|            1|             1|        79084.1|     0|\n",
            "|        7|  15592531| Bartlett|        822|   France|  Male| 50|     7|      0.0|            2|             1|        10062.8|     0|\n",
            "|       10|  15592389|       H?|        684|   France|  Male| 27|     2|134603.88|            1|             1|       71725.73|     0|\n",
            "|       20|  15568982|      Hao|        726|   France|Female| 24|     6|      0.0|            2|             1|       54724.03|     0|\n",
            "|       21|  15577657| McDonald|        732|   France|  Male| 41|     8|      0.0|            2|             1|      170886.17|     0|\n",
            "|       24|  15725737|   Mosman|        669|   France|  Male| 46|     3|      0.0|            2|             1|        8487.75|     0|\n",
            "|       25|  15625047|      Yen|        846|   France|Female| 38|     5|      0.0|            1|             1|      187616.16|     0|\n",
            "|       27|  15736816|    Young|        756|  Germany|  Male| 36|     2|136815.64|            1|             1|      170041.95|     0|\n",
            "|       35|  15732963| Clements|        722|    Spain|Female| 29|     9|      0.0|            2|             1|      142033.07|     0|\n",
            "|       38|  15729599|  Lorenzo|        804|    Spain|  Male| 33|     7|  76548.6|            1|             1|       98453.45|     0|\n",
            "|       39|  15717426|Armstrong|        850|   France|  Male| 36|     7|      0.0|            1|             1|        40812.9|     0|\n",
            "|       45|  15684171|  Bianchi|        660|    Spain|Female| 61|     5|155931.11|            1|             1|      158338.39|     0|\n",
            "|       46|  15754849|    Tyler|        776|  Germany|Female| 32|     4|109421.13|            2|             1|      126517.46|     0|\n",
            "|       47|  15602280|   Martin|        829|  Germany|Female| 27|     9|112045.67|            1|             1|      119708.21|     1|\n",
            "|       64|  15751208|  Pirozzi|        684|    Spain|  Male| 56|     8| 78707.16|            1|             1|       99398.36|     0|\n",
            "|       66|  15789484|  Hammond|        751|  Germany|Female| 36|     6|169831.46|            2|             1|       27758.36|     0|\n",
            "|       68|  15641582|  Chibugo|        735|  Germany|  Male| 43|    10|123180.01|            2|             1|      196673.28|     0|\n",
            "|       69|  15638424|  Glauert|        661|  Germany|Female| 35|     5|150725.53|            2|             1|      113656.85|     0|\n",
            "|       73|  15812518|  Palermo|        657|    Spain|Female| 37|     0|163607.18|            1|             1|       44203.55|     0|\n",
            "|       77|  15614049|       Hu|        664|   France|  Male| 55|     8|      0.0|            2|             1|      139161.64|     0|\n",
            "+---------+----------+---------+-----------+---------+------+---+------+---------+-------------+--------------+---------------+------+\n",
            "only showing top 20 rows\n",
            "\n"
          ]
        }
      ]
    },
    {
      "cell_type": "code",
      "source": [
        "# Assuming 'TransactionType' column has values like 'withdrawal' or 'deposit'\n",
        "from pyspark.sql.functions import col, max\n",
        "\n",
        "txn_df.filter(col(\"TransactionType\") == \"withdrawal\") \\\n",
        "      .agg(max(\"Amount\").alias(\"Max_Withdrawal\")).show()\n"
      ],
      "metadata": {
        "colab": {
          "base_uri": "https://localhost:8080/",
          "height": 582
        },
        "id": "MMhoedLxGdIg",
        "outputId": "583e4eeb-141c-4cdf-a6b8-12e410e81e78"
      },
      "execution_count": 18,
      "outputs": [
        {
          "output_type": "error",
          "ename": "AnalysisException",
          "evalue": "[UNRESOLVED_COLUMN.WITH_SUGGESTION] A column or function parameter with name `TransactionType` cannot be resolved. Did you mean one of the following? [`Account_No`, `BALANCE_AMT`, `DEPOSIT_AMT`, `VALUE_DATE`, `WITHDRAWAL_AMT`].;\n'Filter ('TransactionType = withdrawal)\n+- Project [Account_No#894, TRANSACTION_DETAILS#901, VALUE_DATE#908, WITHDRAWAL_AMT#915, DEPOSIT_AMT#922, BALANCE AMT#112 AS BALANCE_AMT#929]\n   +- Project [Account_No#894, TRANSACTION_DETAILS#901, VALUE_DATE#908, WITHDRAWAL_AMT#915,  DEPOSIT AMT #111 AS DEPOSIT_AMT#922, BALANCE AMT#112]\n      +- Project [Account_No#894, TRANSACTION_DETAILS#901, VALUE_DATE#908,  WITHDRAWAL AMT #110 AS WITHDRAWAL_AMT#915,  DEPOSIT AMT #111, BALANCE AMT#112]\n         +- Project [Account_No#894, TRANSACTION_DETAILS#901, VALUE DATE#109 AS VALUE_DATE#908,  WITHDRAWAL AMT #110,  DEPOSIT AMT #111, BALANCE AMT#112]\n            +- Project [Account_No#894, TRANSACTION DETAILS#108 AS TRANSACTION_DETAILS#901, VALUE DATE#109,  WITHDRAWAL AMT #110,  DEPOSIT AMT #111, BALANCE AMT#112]\n               +- Project [Account No#107 AS Account_No#894, TRANSACTION DETAILS#108, VALUE DATE#109,  WITHDRAWAL AMT #110,  DEPOSIT AMT #111, BALANCE AMT#112]\n                  +- Relation [Account No#107,TRANSACTION DETAILS#108,VALUE DATE#109, WITHDRAWAL AMT #110, DEPOSIT AMT #111,BALANCE AMT#112] csv\n",
          "traceback": [
            "\u001b[0;31m---------------------------------------------------------------------------\u001b[0m",
            "\u001b[0;31mAnalysisException\u001b[0m                         Traceback (most recent call last)",
            "\u001b[0;32m/tmp/ipython-input-643002959.py\u001b[0m in \u001b[0;36m<cell line: 0>\u001b[0;34m()\u001b[0m\n\u001b[1;32m      2\u001b[0m \u001b[0;32mfrom\u001b[0m \u001b[0mpyspark\u001b[0m\u001b[0;34m.\u001b[0m\u001b[0msql\u001b[0m\u001b[0;34m.\u001b[0m\u001b[0mfunctions\u001b[0m \u001b[0;32mimport\u001b[0m \u001b[0mcol\u001b[0m\u001b[0;34m,\u001b[0m \u001b[0mmax\u001b[0m\u001b[0;34m\u001b[0m\u001b[0;34m\u001b[0m\u001b[0m\n\u001b[1;32m      3\u001b[0m \u001b[0;34m\u001b[0m\u001b[0m\n\u001b[0;32m----> 4\u001b[0;31m \u001b[0mtxn_df\u001b[0m\u001b[0;34m.\u001b[0m\u001b[0mfilter\u001b[0m\u001b[0;34m(\u001b[0m\u001b[0mcol\u001b[0m\u001b[0;34m(\u001b[0m\u001b[0;34m\"TransactionType\"\u001b[0m\u001b[0;34m)\u001b[0m \u001b[0;34m==\u001b[0m \u001b[0;34m\"withdrawal\"\u001b[0m\u001b[0;34m)\u001b[0m\u001b[0;31m \u001b[0m\u001b[0;31m\\\u001b[0m\u001b[0;34m\u001b[0m\u001b[0;34m\u001b[0m\u001b[0m\n\u001b[0m\u001b[1;32m      5\u001b[0m       \u001b[0;34m.\u001b[0m\u001b[0magg\u001b[0m\u001b[0;34m(\u001b[0m\u001b[0mmax\u001b[0m\u001b[0;34m(\u001b[0m\u001b[0;34m\"Amount\"\u001b[0m\u001b[0;34m)\u001b[0m\u001b[0;34m.\u001b[0m\u001b[0malias\u001b[0m\u001b[0;34m(\u001b[0m\u001b[0;34m\"Max_Withdrawal\"\u001b[0m\u001b[0;34m)\u001b[0m\u001b[0;34m)\u001b[0m\u001b[0;34m.\u001b[0m\u001b[0mshow\u001b[0m\u001b[0;34m(\u001b[0m\u001b[0;34m)\u001b[0m\u001b[0;34m\u001b[0m\u001b[0;34m\u001b[0m\u001b[0m\n",
            "\u001b[0;32m/usr/local/lib/python3.11/dist-packages/pyspark/sql/dataframe.py\u001b[0m in \u001b[0;36mfilter\u001b[0;34m(self, condition)\u001b[0m\n\u001b[1;32m   3327\u001b[0m             \u001b[0mjdf\u001b[0m \u001b[0;34m=\u001b[0m \u001b[0mself\u001b[0m\u001b[0;34m.\u001b[0m\u001b[0m_jdf\u001b[0m\u001b[0;34m.\u001b[0m\u001b[0mfilter\u001b[0m\u001b[0;34m(\u001b[0m\u001b[0mcondition\u001b[0m\u001b[0;34m)\u001b[0m\u001b[0;34m\u001b[0m\u001b[0;34m\u001b[0m\u001b[0m\n\u001b[1;32m   3328\u001b[0m         \u001b[0;32melif\u001b[0m \u001b[0misinstance\u001b[0m\u001b[0;34m(\u001b[0m\u001b[0mcondition\u001b[0m\u001b[0;34m,\u001b[0m \u001b[0mColumn\u001b[0m\u001b[0;34m)\u001b[0m\u001b[0;34m:\u001b[0m\u001b[0;34m\u001b[0m\u001b[0;34m\u001b[0m\u001b[0m\n\u001b[0;32m-> 3329\u001b[0;31m             \u001b[0mjdf\u001b[0m \u001b[0;34m=\u001b[0m \u001b[0mself\u001b[0m\u001b[0;34m.\u001b[0m\u001b[0m_jdf\u001b[0m\u001b[0;34m.\u001b[0m\u001b[0mfilter\u001b[0m\u001b[0;34m(\u001b[0m\u001b[0mcondition\u001b[0m\u001b[0;34m.\u001b[0m\u001b[0m_jc\u001b[0m\u001b[0;34m)\u001b[0m\u001b[0;34m\u001b[0m\u001b[0;34m\u001b[0m\u001b[0m\n\u001b[0m\u001b[1;32m   3330\u001b[0m         \u001b[0;32melse\u001b[0m\u001b[0;34m:\u001b[0m\u001b[0;34m\u001b[0m\u001b[0;34m\u001b[0m\u001b[0m\n\u001b[1;32m   3331\u001b[0m             raise PySparkTypeError(\n",
            "\u001b[0;32m/usr/local/lib/python3.11/dist-packages/py4j/java_gateway.py\u001b[0m in \u001b[0;36m__call__\u001b[0;34m(self, *args)\u001b[0m\n\u001b[1;32m   1320\u001b[0m \u001b[0;34m\u001b[0m\u001b[0m\n\u001b[1;32m   1321\u001b[0m         \u001b[0manswer\u001b[0m \u001b[0;34m=\u001b[0m \u001b[0mself\u001b[0m\u001b[0;34m.\u001b[0m\u001b[0mgateway_client\u001b[0m\u001b[0;34m.\u001b[0m\u001b[0msend_command\u001b[0m\u001b[0;34m(\u001b[0m\u001b[0mcommand\u001b[0m\u001b[0;34m)\u001b[0m\u001b[0;34m\u001b[0m\u001b[0;34m\u001b[0m\u001b[0m\n\u001b[0;32m-> 1322\u001b[0;31m         return_value = get_return_value(\n\u001b[0m\u001b[1;32m   1323\u001b[0m             answer, self.gateway_client, self.target_id, self.name)\n\u001b[1;32m   1324\u001b[0m \u001b[0;34m\u001b[0m\u001b[0m\n",
            "\u001b[0;32m/usr/local/lib/python3.11/dist-packages/pyspark/errors/exceptions/captured.py\u001b[0m in \u001b[0;36mdeco\u001b[0;34m(*a, **kw)\u001b[0m\n\u001b[1;32m    183\u001b[0m                 \u001b[0;31m# Hide where the exception came from that shows a non-Pythonic\u001b[0m\u001b[0;34m\u001b[0m\u001b[0;34m\u001b[0m\u001b[0m\n\u001b[1;32m    184\u001b[0m                 \u001b[0;31m# JVM exception message.\u001b[0m\u001b[0;34m\u001b[0m\u001b[0;34m\u001b[0m\u001b[0m\n\u001b[0;32m--> 185\u001b[0;31m                 \u001b[0;32mraise\u001b[0m \u001b[0mconverted\u001b[0m \u001b[0;32mfrom\u001b[0m \u001b[0;32mNone\u001b[0m\u001b[0;34m\u001b[0m\u001b[0;34m\u001b[0m\u001b[0m\n\u001b[0m\u001b[1;32m    186\u001b[0m             \u001b[0;32melse\u001b[0m\u001b[0;34m:\u001b[0m\u001b[0;34m\u001b[0m\u001b[0;34m\u001b[0m\u001b[0m\n\u001b[1;32m    187\u001b[0m                 \u001b[0;32mraise\u001b[0m\u001b[0;34m\u001b[0m\u001b[0;34m\u001b[0m\u001b[0m\n",
            "\u001b[0;31mAnalysisException\u001b[0m: [UNRESOLVED_COLUMN.WITH_SUGGESTION] A column or function parameter with name `TransactionType` cannot be resolved. Did you mean one of the following? [`Account_No`, `BALANCE_AMT`, `DEPOSIT_AMT`, `VALUE_DATE`, `WITHDRAWAL_AMT`].;\n'Filter ('TransactionType = withdrawal)\n+- Project [Account_No#894, TRANSACTION_DETAILS#901, VALUE_DATE#908, WITHDRAWAL_AMT#915, DEPOSIT_AMT#922, BALANCE AMT#112 AS BALANCE_AMT#929]\n   +- Project [Account_No#894, TRANSACTION_DETAILS#901, VALUE_DATE#908, WITHDRAWAL_AMT#915,  DEPOSIT AMT #111 AS DEPOSIT_AMT#922, BALANCE AMT#112]\n      +- Project [Account_No#894, TRANSACTION_DETAILS#901, VALUE_DATE#908,  WITHDRAWAL AMT #110 AS WITHDRAWAL_AMT#915,  DEPOSIT AMT #111, BALANCE AMT#112]\n         +- Project [Account_No#894, TRANSACTION_DETAILS#901, VALUE DATE#109 AS VALUE_DATE#908,  WITHDRAWAL AMT #110,  DEPOSIT AMT #111, BALANCE AMT#112]\n            +- Project [Account_No#894, TRANSACTION DETAILS#108 AS TRANSACTION_DETAILS#901, VALUE DATE#109,  WITHDRAWAL AMT #110,  DEPOSIT AMT #111, BALANCE AMT#112]\n               +- Project [Account No#107 AS Account_No#894, TRANSACTION DETAILS#108, VALUE DATE#109,  WITHDRAWAL AMT #110,  DEPOSIT AMT #111, BALANCE AMT#112]\n                  +- Relation [Account No#107,TRANSACTION DETAILS#108,VALUE DATE#109, WITHDRAWAL AMT #110, DEPOSIT AMT #111,BALANCE AMT#112] csv\n"
          ]
        }
      ]
    },
    {
      "cell_type": "code",
      "source": [
        " #1. Maximum Withdrawal Amount\n",
        "txn_df.select(max(\"WITHDRAWAL_AMT\").alias(\"Max_Withdrawal_Amount\")).show()"
      ],
      "metadata": {
        "colab": {
          "base_uri": "https://localhost:8080/"
        },
        "id": "zB__D9R6GqW7",
        "outputId": "efadbfe9-9877-4075-d9b3-3eef585b1cc5"
      },
      "execution_count": 19,
      "outputs": [
        {
          "output_type": "stream",
          "name": "stdout",
          "text": [
            "+---------------------+\n",
            "|Max_Withdrawal_Amount|\n",
            "+---------------------+\n",
            "|        4.594475464E8|\n",
            "+---------------------+\n",
            "\n"
          ]
        }
      ]
    },
    {
      "cell_type": "code",
      "source": [
        "#Minimum Withdrawal Amount\n",
        "txn_df.select(min(\"WITHDRAWAL_AMT\").alias(\"Min_Withdrawal_Amount\")).show()"
      ],
      "metadata": {
        "colab": {
          "base_uri": "https://localhost:8080/"
        },
        "id": "Fgcdku6RHLcu",
        "outputId": "6e04b654-7f66-429a-de8e-62560b5f5399"
      },
      "execution_count": 20,
      "outputs": [
        {
          "output_type": "stream",
          "name": "stdout",
          "text": [
            "+---------------------+\n",
            "|Min_Withdrawal_Amount|\n",
            "+---------------------+\n",
            "|                 0.01|\n",
            "+---------------------+\n",
            "\n"
          ]
        }
      ]
    },
    {
      "cell_type": "code",
      "source": [
        "#Maximum Deposit Amount\n",
        "txn_df.select(max(\"DEPOSIT_AMT\").alias(\"Max_Deposit_Amount\")).show()\n"
      ],
      "metadata": {
        "colab": {
          "base_uri": "https://localhost:8080/"
        },
        "id": "4rXR5nymHmOC",
        "outputId": "1e8db2b6-60e0-4cba-a015-947290ba8f98"
      },
      "execution_count": 21,
      "outputs": [
        {
          "output_type": "stream",
          "name": "stdout",
          "text": [
            "+------------------+\n",
            "|Max_Deposit_Amount|\n",
            "+------------------+\n",
            "|           5.448E8|\n",
            "+------------------+\n",
            "\n"
          ]
        }
      ]
    },
    {
      "cell_type": "code",
      "source": [
        "# Minimum Deposit Amount\n",
        "txn_df.select(min(\"DEPOSIT_AMT\").alias(\"Min_Deposit_Amount\")).show()"
      ],
      "metadata": {
        "colab": {
          "base_uri": "https://localhost:8080/"
        },
        "id": "pxExE1zYH8mc",
        "outputId": "2345babc-38a5-4968-8e92-67572d3e6b77"
      },
      "execution_count": 22,
      "outputs": [
        {
          "output_type": "stream",
          "name": "stdout",
          "text": [
            "+------------------+\n",
            "|Min_Deposit_Amount|\n",
            "+------------------+\n",
            "|              0.01|\n",
            "+------------------+\n",
            "\n"
          ]
        }
      ]
    },
    {
      "cell_type": "code",
      "source": [
        " #Sum of Balance Amount in Each Bank Account\n",
        "\n",
        "txn_df.groupBy(\"Account_No\") \\\n",
        "      .sum(\"BALANCE_AMT\") \\\n",
        "      .withColumnRenamed(\"sum(BALANCE_AMT)\", \"Total_Balance\") \\\n",
        "      .show()\n"
      ],
      "metadata": {
        "colab": {
          "base_uri": "https://localhost:8080/"
        },
        "id": "8ncQLSgiIW64",
        "outputId": "5c5d9e60-c3cb-4648-ca42-01bac4ef558c"
      },
      "execution_count": 23,
      "outputs": [
        {
          "output_type": "stream",
          "name": "stdout",
          "text": [
            "+-------------+--------------------+\n",
            "|   Account_No|       Total_Balance|\n",
            "+-------------+--------------------+\n",
            "|409000438611'|-2.49486577068339...|\n",
            "|     1196711'|-1.60476498101275E13|\n",
            "|     1196428'| -8.1418498130721E13|\n",
            "|409000493210'|-3.27584952132095...|\n",
            "|409000611074'|       1.615533622E9|\n",
            "|409000425051'|-3.77211841164998...|\n",
            "|409000405747'|-2.43108047067000...|\n",
            "|409000362497'| -5.2860004792808E13|\n",
            "|409000493201'|1.0420831829499985E9|\n",
            "|409000438620'|-7.12291867951358...|\n",
            "+-------------+--------------------+\n",
            "\n"
          ]
        }
      ]
    },
    {
      "cell_type": "code",
      "source": [
        "# Number of Transactions Happening on Each Date\n",
        "\n",
        "txn_df.groupBy(\"VALUE_DATE\") \\\n",
        "      .agg(count(\"*\").alias(\"Transaction_Count\")) \\\n",
        "      .orderBy(\"VALUE_DATE\") \\\n",
        "      .show()\n"
      ],
      "metadata": {
        "colab": {
          "base_uri": "https://localhost:8080/"
        },
        "id": "klIhVn8aI07D",
        "outputId": "17b8cef7-2373-4118-b14c-8cfa70d515be"
      },
      "execution_count": 24,
      "outputs": [
        {
          "output_type": "stream",
          "name": "stdout",
          "text": [
            "+----------+-----------------+\n",
            "|VALUE_DATE|Transaction_Count|\n",
            "+----------+-----------------+\n",
            "|  1-Apr-17|                1|\n",
            "|  1-Aug-15|               75|\n",
            "|  1-Aug-16|               85|\n",
            "|  1-Aug-17|               65|\n",
            "|  1-Aug-18|              144|\n",
            "|  1-Dec-15|               96|\n",
            "|  1-Dec-16|              106|\n",
            "|  1-Dec-17|               45|\n",
            "|  1-Dec-18|               97|\n",
            "|  1-Feb-16|               97|\n",
            "|  1-Feb-17|               81|\n",
            "|  1-Feb-18|               87|\n",
            "|  1-Feb-19|               79|\n",
            "|  1-Jan-15|                3|\n",
            "|  1-Jan-16|               59|\n",
            "|  1-Jan-18|               53|\n",
            "|  1-Jan-19|               57|\n",
            "|  1-Jul-15|               25|\n",
            "|  1-Jul-16|              111|\n",
            "|  1-Jul-17|              243|\n",
            "+----------+-----------------+\n",
            "only showing top 20 rows\n",
            "\n"
          ]
        }
      ]
    },
    {
      "cell_type": "code",
      "source": [
        "# Customers With Withdrawal Amount Greater Than ₹1,00,000\n",
        "\n",
        "txn_df.filter(col(\"WITHDRAWAL_AMT\") > 100000) \\\n",
        "      .select(\"Account_No\", \"WITHDRAWAL_AMT\", \"VALUE_DATE\") \\\n",
        "      .orderBy(col(\"WITHDRAWAL_AMT\").desc()) \\\n",
        "      .show()"
      ],
      "metadata": {
        "colab": {
          "base_uri": "https://localhost:8080/"
        },
        "id": "Y8f_ImgTJNsi",
        "outputId": "9e5ae9d8-1d75-4adf-b554-3439f353e5d0"
      },
      "execution_count": 28,
      "outputs": [
        {
          "output_type": "stream",
          "name": "stdout",
          "text": [
            "+-------------+--------------+----------+\n",
            "|   Account_No|WITHDRAWAL_AMT|VALUE_DATE|\n",
            "+-------------+--------------+----------+\n",
            "|     1196711'| 4.594475464E8| 26-Jun-18|\n",
            "|     1196711'| 4.482072231E8| 26-May-17|\n",
            "|409000438620'|         4.0E8|  8-Mar-16|\n",
            "|409000425051'|        3.54E8| 31-Oct-18|\n",
            "|     1196711'| 2.671403184E8| 20-Jun-15|\n",
            "|409000438611'|         2.4E8| 31-Mar-16|\n",
            "|     1196711'|       2.021E8|  3-May-16|\n",
            "|409000438620'|         2.0E8| 11-Mar-16|\n",
            "|409000438620'|         2.0E8| 18-Mar-16|\n",
            "|     1196711'|         2.0E8| 21-Oct-15|\n",
            "|     1196711'|         2.0E8|  3-Oct-15|\n",
            "|409000405747'|         1.7E8| 30-Jan-16|\n",
            "|     1196711'|        1.54E8| 24-Sep-15|\n",
            "|     1196711'|         1.5E8| 22-Aug-15|\n",
            "|     1196711'|         1.5E8| 17-Oct-15|\n",
            "|     1196711'|         1.5E8|  7-Apr-16|\n",
            "|     1196428'|         1.5E8| 13-Apr-16|\n",
            "|409000362497'| 1.413662392E8| 16-Aug-16|\n",
            "|409000362497'| 1.317762365E8| 14-Sep-16|\n",
            "|409000362497'| 1.316962119E8| 10-Oct-16|\n",
            "+-------------+--------------+----------+\n",
            "only showing top 20 rows\n",
            "\n"
          ]
        }
      ]
    }
  ]
}